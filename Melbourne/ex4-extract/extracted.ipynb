{
 "cells": [
  {
   "cell_type": "code",
   "execution_count": 1,
   "metadata": {},
   "outputs": [],
   "source": [
    "import os\n",
    "import pandas as pd\n",
    "import numpy as np"
   ]
  },
  {
   "cell_type": "code",
   "execution_count": 2,
   "metadata": {},
   "outputs": [],
   "source": [
    "FOLDER_PATH = os.path.join(os.path.dirname(os.getcwd()),'datasets','melbourne.csv')"
   ]
  },
  {
   "cell_type": "code",
   "execution_count": 3,
   "metadata": {},
   "outputs": [],
   "source": [
    "def load_data(folder_path = FOLDER_PATH):\n",
    "    return pd.read_csv(FOLDER_PATH,index_col=0)"
   ]
  },
  {
   "cell_type": "code",
   "execution_count": 4,
   "metadata": {},
   "outputs": [],
   "source": [
    "housing_df = load_data()"
   ]
  },
  {
   "cell_type": "code",
   "execution_count": 15,
   "metadata": {},
   "outputs": [],
   "source": [
    "impute_dict = dict({})\n",
    "for column in housing_df.columns:\n",
    "    if housing_df[column].dtype == np.object:\n",
    "        impute_dict[column] = housing_df[column].value_counts().index[0]\n",
    "    else:\n",
    "        impute_dict[column] = housing_df[column].median()"
   ]
  },
  {
   "cell_type": "code",
   "execution_count": 16,
   "metadata": {},
   "outputs": [
    {
     "data": {
      "text/plain": [
       "{'Suburb': 'Reservoir',\n",
       " 'Address': '2 Bruce St',\n",
       " 'Rooms': 3.0,\n",
       " 'Type': 'h',\n",
       " 'Price': 880000.0,\n",
       " 'Method': 'S',\n",
       " 'SellerG': 'Nelson',\n",
       " 'Date': '27/05/2017',\n",
       " 'Distance': 9.7,\n",
       " 'Postcode': 3085.0,\n",
       " 'Bedroom2': 3.0,\n",
       " 'Bathroom': 1.0,\n",
       " 'Car': 2.0,\n",
       " 'Landsize': 440.0,\n",
       " 'BuildingArea': 126.0,\n",
       " 'YearBuilt': 1970.0,\n",
       " 'CouncilArea': 'Moreland',\n",
       " 'Lattitude': -37.803625,\n",
       " 'Longtitude': 145.00092,\n",
       " 'Regionname': 'Southern Metropolitan',\n",
       " 'Propertycount': 6567.0}"
      ]
     },
     "execution_count": 16,
     "metadata": {},
     "output_type": "execute_result"
    }
   ],
   "source": [
    "impute_dict"
   ]
  },
  {
   "cell_type": "code",
   "execution_count": 18,
   "metadata": {},
   "outputs": [],
   "source": [
    "tuples = housing_df[housing_df.isna().any(axis=1)]"
   ]
  },
  {
   "cell_type": "code",
   "execution_count": 19,
   "metadata": {},
   "outputs": [],
   "source": [
    "from sklearn.base import TransformerMixin\n",
    "\n",
    "class CustomImputer(TransformerMixin):\n",
    "\n",
    "    def __init__(self):\n",
    "        pass\n",
    "    def fit(self, X, y=None):\n",
    "\n",
    "        self.fill = pd.Series([impute_dict[c] for c in X],index=X.columns)\n",
    "\n",
    "        return self\n",
    "\n",
    "    def transform(self, X, y=None):\n",
    "        return X.fillna(self.fill)"
   ]
  },
  {
   "cell_type": "code",
   "execution_count": 22,
   "metadata": {},
   "outputs": [],
   "source": [
    "tuples = CustomImputer().fit_transform(tuples)"
   ]
  },
  {
   "cell_type": "code",
   "execution_count": 24,
   "metadata": {},
   "outputs": [],
   "source": [
    "tuples.to_csv(path_or_buf='extracted.csv')"
   ]
  },
  {
   "cell_type": "code",
   "execution_count": null,
   "metadata": {},
   "outputs": [],
   "source": []
  }
 ],
 "metadata": {
  "kernelspec": {
   "display_name": "Python 3",
   "language": "python",
   "name": "python3"
  },
  "language_info": {
   "codemirror_mode": {
    "name": "ipython",
    "version": 3
   },
   "file_extension": ".py",
   "mimetype": "text/x-python",
   "name": "python",
   "nbconvert_exporter": "python",
   "pygments_lexer": "ipython3",
   "version": "3.7.3"
  }
 },
 "nbformat": 4,
 "nbformat_minor": 2
}
