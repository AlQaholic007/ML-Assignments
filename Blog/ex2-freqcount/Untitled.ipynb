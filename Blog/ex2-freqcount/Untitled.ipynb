{
 "cells": [
  {
   "cell_type": "code",
   "execution_count": 1,
   "metadata": {},
   "outputs": [
    {
     "name": "stderr",
     "output_type": "stream",
     "text": [
      "[nltk_data] Downloading package punkt to /Users/soham/nltk_data...\n",
      "[nltk_data]   Package punkt is already up-to-date!\n"
     ]
    }
   ],
   "source": [
    "import os\n",
    "import codecs\n",
    "import nltk\n",
    "import pandas as pd\n",
    "nltk.download('punkt')\n",
    "from bs4 import BeautifulSoup\n"
   ]
  },
  {
   "cell_type": "code",
   "execution_count": 2,
   "metadata": {},
   "outputs": [],
   "source": [
    "FOLDER_PATH = os.path.join(os.path.dirname(os.getcwd()),'blogs')"
   ]
  },
  {
   "cell_type": "code",
   "execution_count": 3,
   "metadata": {},
   "outputs": [],
   "source": [
    "from nltk.tokenize import RegexpTokenizer\n",
    "from collections import Counter\n",
    "\n",
    "def freq_count(folder_path = FOLDER_PATH):\n",
    "    for f in os.listdir(FOLDER_PATH):\n",
    "        blog_file = BeautifulSoup(codecs.open(folder_path + '/' + f,encoding='utf-8',errors='ignore'),'lxml')\n",
    "        \n",
    "        \n",
    "        csv_path = 'blog' + f.split('.')[0]\n",
    "        \n",
    "        if not os.path.exists(csv_path):\n",
    "            os.makedirs(csv_path)\n",
    "        \n",
    "        # remove punctuation marks\n",
    "        tokenizer = RegexpTokenizer(r'\\w+')\n",
    "        for count,post in enumerate(blog_file.find_all('post')):\n",
    "            para_word_list = tokenizer.tokenize(post.text)\n",
    "            # word counts for each para in the blog.\n",
    "            word_counts = dict(Counter(para_word_list))\n",
    "            df = pd.Series(word_counts).to_frame('frequency')\n",
    "            \n",
    "            # save word count as csv file named blog<id>,csv\n",
    "            df.to_csv(path_or_buf = os.path.join(csv_path,'para{}.csv'.format(count+1))) \n",
    "            "
   ]
  },
  {
   "cell_type": "code",
   "execution_count": 4,
   "metadata": {},
   "outputs": [],
   "source": [
    "freq_count()"
   ]
  },
  {
   "cell_type": "code",
   "execution_count": null,
   "metadata": {},
   "outputs": [],
   "source": []
  }
 ],
 "metadata": {
  "kernelspec": {
   "display_name": "Python 3",
   "language": "python",
   "name": "python3"
  },
  "language_info": {
   "codemirror_mode": {
    "name": "ipython",
    "version": 3
   },
   "file_extension": ".py",
   "mimetype": "text/x-python",
   "name": "python",
   "nbconvert_exporter": "python",
   "pygments_lexer": "ipython3",
   "version": "3.7.3"
  }
 },
 "nbformat": 4,
 "nbformat_minor": 2
}
