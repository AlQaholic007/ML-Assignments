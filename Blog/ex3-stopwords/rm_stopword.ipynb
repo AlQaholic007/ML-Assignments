{
 "cells": [
  {
   "cell_type": "code",
   "execution_count": 1,
   "metadata": {},
   "outputs": [],
   "source": [
    "import os\n",
    "import codecs\n",
    "import pandas as pd\n",
    "import nltk\n",
    "from bs4 import BeautifulSoup\n",
    "from nltk.corpus import stopwords"
   ]
  },
  {
   "cell_type": "code",
   "execution_count": 2,
   "metadata": {},
   "outputs": [],
   "source": [
    "stop_words = set(stopwords.words(\"english\"))"
   ]
  },
  {
   "cell_type": "code",
   "execution_count": 3,
   "metadata": {},
   "outputs": [],
   "source": [
    "FOLDER_PATH = os.path.join(os.path.dirname(os.getcwd()),'blogs')"
   ]
  },
  {
   "cell_type": "code",
   "execution_count": 4,
   "metadata": {},
   "outputs": [],
   "source": [
    "from nltk.tokenize import RegexpTokenizer\n",
    "def rm_stopwords(folder_path=FOLDER_PATH):\n",
    "    for f in os.listdir(folder_path):\n",
    "        blog_file = BeautifulSoup(codecs.open(folder_path + '/' + f,encoding=\"utf-8\",errors='ignore'),'lxml')\n",
    "        \n",
    "        \n",
    "        tokenizer = RegexpTokenizer(r'\\w+')\n",
    "        \n",
    "        \n",
    "        \n",
    "        for i,post in enumerate(blog_file.find_all('post')):\n",
    "            csv_path = os.path.join('blog' + f.split('.')[0],'para{}'.format(i+1))\n",
    "            \n",
    "            if not os.path.exists(csv_path):\n",
    "                os.makedirs(csv_path)\n",
    "            \n",
    "            \n",
    "            word_list = tokenizer.tokenize(post.text)\n",
    "            stopword_list = [word for word in word_list if word in stop_words]\n",
    "            non_stopword_list = [word for word in word_list if word not in stop_words]\n",
    "        \n",
    "            (pd.DataFrame(stopword_list)).to_csv(path_or_buf = os.path.join(csv_path,'stopwords.csv'),index=False)\n",
    "            (pd.DataFrame(non_stopword_list)).to_csv(path_or_buf = os.path.join(csv_path,'nonstopwords.csv'),index=False)"
   ]
  },
  {
   "cell_type": "code",
   "execution_count": 5,
   "metadata": {},
   "outputs": [],
   "source": [
    "rm_stopwords()"
   ]
  },
  {
   "cell_type": "code",
   "execution_count": null,
   "metadata": {},
   "outputs": [],
   "source": []
  }
 ],
 "metadata": {
  "kernelspec": {
   "display_name": "Python 3",
   "language": "python",
   "name": "python3"
  },
  "language_info": {
   "codemirror_mode": {
    "name": "ipython",
    "version": 3
   },
   "file_extension": ".py",
   "mimetype": "text/x-python",
   "name": "python",
   "nbconvert_exporter": "python",
   "pygments_lexer": "ipython3",
   "version": "3.7.3"
  }
 },
 "nbformat": 4,
 "nbformat_minor": 2
}
