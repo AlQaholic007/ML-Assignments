{
 "cells": [
  {
   "cell_type": "code",
   "execution_count": 26,
   "metadata": {},
   "outputs": [
    {
     "name": "stderr",
     "output_type": "stream",
     "text": [
      "[nltk_data] Downloading package wordnet to /Users/soham/nltk_data...\n",
      "[nltk_data]   Package wordnet is already up-to-date!\n",
      "[nltk_data] Downloading package averaged_perceptron_tagger to\n",
      "[nltk_data]     /Users/soham/nltk_data...\n",
      "[nltk_data]   Unzipping taggers/averaged_perceptron_tagger.zip.\n"
     ]
    },
    {
     "data": {
      "text/plain": [
       "True"
      ]
     },
     "execution_count": 26,
     "metadata": {},
     "output_type": "execute_result"
    }
   ],
   "source": [
    "import os\n",
    "import pandas as pd\n",
    "import codecs\n",
    "from bs4 import BeautifulSoup\n",
    "import nltk\n",
    "from nltk.corpus import stopwords,wordnet\n",
    "nltk.download('wordnet')\n",
    "nltk.download('averaged_perceptron_tagger')"
   ]
  },
  {
   "cell_type": "code",
   "execution_count": 27,
   "metadata": {},
   "outputs": [],
   "source": [
    "FOLDER_PATH = os.path.join(os.path.dirname(os.getcwd()),'blogs')"
   ]
  },
  {
   "cell_type": "code",
   "execution_count": 30,
   "metadata": {},
   "outputs": [],
   "source": [
    "from nltk.tokenize import RegexpTokenizer\n",
    "from nltk.stem import PorterStemmer,WordNetLemmatizer \n",
    "from nltk import pos_tag\n",
    "from collections import defaultdict\n",
    "def blog_stemmer(folder_path=FOLDER_PATH):\n",
    "    for f in os.listdir(folder_path):\n",
    "        blog = BeautifulSoup(codecs.open(folder_path + '/' + f,encoding=\"utf-8\",errors=\"ignore\"),\"lxml\")\n",
    "        \n",
    "        tokenizer = RegexpTokenizer(r'\\w+')\n",
    "        stop_words = set(stopwords.words('english'))\n",
    "        \n",
    "        tags = defaultdict(lambda: wordnet.NOUN)\n",
    "        tags['J'] = wordnet.ADJ\n",
    "        tags['V'] = wordnet.VERB\n",
    "        tags['R'] = wordnet.ADV\n",
    "        \n",
    "        for i,post in enumerate(blog.find_all('post')):\n",
    "            csv_path = os.path.join('blog' + f.split('.')[0],'para{}'.format(i+1))\n",
    "            \n",
    "            if not os.path.exists(csv_path):\n",
    "                os.makedirs(csv_path)\n",
    "                \n",
    "            # tokenize para\n",
    "            word_list = tokenizer.tokenize(post.text)\n",
    "            # remove stopwords\n",
    "            nonstopword_list = [word for word in word_list if word not in stop_words]\n",
    "            # remove duplicate words\n",
    "            nonstopword_list = list(dict.fromkeys(nonstopword_list))\n",
    "            \n",
    "            stemmer = PorterStemmer()\n",
    "            lemmatizer = WordNetLemmatizer()\n",
    "            \n",
    "            roots = [stemmer.stem(word) for word in nonstopword_list]\n",
    "            lemma = [lemmatizer.lemmatize(word,tags[tag[0]]) for word,tag in pos_tag(nonstopword_list)]\n",
    "            \n",
    "            pd.DataFrame({'word':nonstopword_list,\n",
    "                         'stem':roots}).to_csv(path_or_buf = os.path.join(csv_path,'stems.csv'))\n",
    "            pd.DataFrame({'word':nonstopword_list,\n",
    "                         'lemma':roots}).to_csv(path_or_buf = os.path.join(csv_path,'lemma.csv'))\n",
    "            \n",
    "            \n",
    "            \n",
    "            \n",
    "            "
   ]
  },
  {
   "cell_type": "code",
   "execution_count": 31,
   "metadata": {},
   "outputs": [],
   "source": [
    "blog_stemmer()"
   ]
  },
  {
   "cell_type": "code",
   "execution_count": null,
   "metadata": {},
   "outputs": [],
   "source": []
  }
 ],
 "metadata": {
  "kernelspec": {
   "display_name": "Python 3",
   "language": "python",
   "name": "python3"
  },
  "language_info": {
   "codemirror_mode": {
    "name": "ipython",
    "version": 3
   },
   "file_extension": ".py",
   "mimetype": "text/x-python",
   "name": "python",
   "nbconvert_exporter": "python",
   "pygments_lexer": "ipython3",
   "version": "3.7.3"
  }
 },
 "nbformat": 4,
 "nbformat_minor": 2
}
